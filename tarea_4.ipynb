{
 "cells": [
  {
   "cell_type": "code",
   "execution_count": 42,
   "metadata": {},
   "outputs": [],
   "source": [
    "import pandas as pd\n",
    "\n"
   ]
  },
  {
   "cell_type": "code",
   "execution_count": 43,
   "metadata": {},
   "outputs": [],
   "source": [
    "def load_file(file_path):\n",
    "    \"Carga un archivo en un DataFrame, soportando formatos csv, xlsx, html y json.\"\n",
    "    if file_path.endswith('.csv'):\n",
    "        return pd.read_csv(file_path)\n",
    "    elif file_path.endswith('.xlsx'):\n",
    "        return pd.read_excel(file_path)\n",
    "    elif file_path.endswith('.html'):\n",
    "        return pd.read_html(file_path)[0]\n",
    "    elif file_path.endswith('.json'):\n",
    "        return pd.read_json(file_path)\n",
    "    else:\n",
    "        raise ValueError(\"Formato de archivo no soportado\")"
   ]
  },
  {
   "cell_type": "code",
   "execution_count": 44,
   "metadata": {},
   "outputs": [],
   "source": [
    "def fill_na_ffill(df):\n",
    "    \"Sustituye valores nulos con el método forward fill (ffill).\"\n",
    "    return df.ffill()"
   ]
  },
  {
   "cell_type": "code",
   "execution_count": 45,
   "metadata": {},
   "outputs": [],
   "source": [
    "def fill_na_bfill(df):\n",
    "    \"Sustituye valores nulos con el método backward fill (bfill).\"\n",
    "    return df.bfill()"
   ]
  },
  {
   "cell_type": "code",
   "execution_count": 46,
   "metadata": {},
   "outputs": [],
   "source": [
    "def fill_na_with_string(df, value=\"SIN DATOS\"):\n",
    "    \"Sustituye valores nulos con un string concreto.\"\n",
    "    return df.fillna(value)\n"
   ]
  },
  {
   "cell_type": "code",
   "execution_count": 47,
   "metadata": {},
   "outputs": [],
   "source": [
    "def fill_na_with_mean(df):\n",
    "    \"Sustituye valores nulos con el promedio de la columna.\"\n",
    "    for col in df.select_dtypes(include=['number']).columns:\n",
    "        df[col] = df[col].fillna(df[col].mean())\n",
    "    return df"
   ]
  },
  {
   "cell_type": "code",
   "execution_count": 48,
   "metadata": {},
   "outputs": [],
   "source": [
    "def fill_na_with_median(df):\n",
    "    \"Sustituye valores nulos con la mediana de la columna.\"\n",
    "    for col in df.select_dtypes(include=['number']).columns:\n",
    "        df[col] = df[col].fillna(df[col].median())\n",
    "    return df"
   ]
  },
  {
   "cell_type": "code",
   "execution_count": 49,
   "metadata": {},
   "outputs": [],
   "source": [
    "def fill_na_with_constant(df, constant_value=0):\n",
    "    \"Sustituye valores nulos con una constante específica.\"\n",
    "    return df.fillna(constant_value)"
   ]
  },
  {
   "cell_type": "code",
   "execution_count": 50,
   "metadata": {},
   "outputs": [],
   "source": [
    "def check_null_values(df):\n",
    "    \"Identifica valores nulos por columna y en el dataframe.\"\n",
    "    nulls_per_column = df.isnull().sum()\n",
    "    total_nulls = df.isnull().sum().sum()\n",
    "    return {'nulls_per_column': nulls_per_column, 'total_nulls': total_nulls}"
   ]
  },
  {
   "cell_type": "code",
   "execution_count": 51,
   "metadata": {},
   "outputs": [],
   "source": [
    "# Prueba con el archivo proporcionado\n",
    "file_path = 'sandiego_estadosunidos.csv'\n",
    "df = load_file(file_path)"
   ]
  },
  {
   "cell_type": "code",
   "execution_count": 52,
   "metadata": {},
   "outputs": [],
   "source": [
    "# Aplicamos todas las funciones para probarlas\n",
    "df = fill_na_ffill(df)\n",
    "df = fill_na_bfill(df)\n",
    "df = fill_na_with_string(df)\n",
    "df = fill_na_with_mean(df)\n",
    "df = fill_na_with_median(df)\n",
    "df = fill_na_with_constant(df, constant_value=0)\n",
    "\n",
    "null_info = check_null_values(df)\n",
    "\n"
   ]
  },
  {
   "cell_type": "code",
   "execution_count": null,
   "metadata": {},
   "outputs": [],
   "source": [
    "# Mostramos los resultados\n",
    "print(\"Valores nulos por columna:\\n\", null_info['nulls_per_column'])\n",
    "print(\"Total de valores nulos:\", null_info['total_nulls'])"
   ]
  }
 ],
 "metadata": {
  "kernelspec": {
   "display_name": "Python 3",
   "language": "python",
   "name": "python3"
  },
  "language_info": {
   "codemirror_mode": {
    "name": "ipython",
    "version": 3
   },
   "file_extension": ".py",
   "mimetype": "text/x-python",
   "name": "python",
   "nbconvert_exporter": "python",
   "pygments_lexer": "ipython3",
   "version": "3.13.2"
  }
 },
 "nbformat": 4,
 "nbformat_minor": 2
}
